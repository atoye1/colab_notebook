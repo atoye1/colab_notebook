{
  "nbformat": 4,
  "nbformat_minor": 0,
  "metadata": {
    "colab": {
      "provenance": [],
      "authorship_tag": "ABX9TyOP0gROeluBote+aya2XQOL",
      "include_colab_link": true
    },
    "kernelspec": {
      "name": "python3",
      "display_name": "Python 3"
    },
    "language_info": {
      "name": "python"
    }
  },
  "cells": [
    {
      "cell_type": "markdown",
      "metadata": {
        "id": "view-in-github",
        "colab_type": "text"
      },
      "source": [
        "<a href=\"https://colab.research.google.com/github/atoye1/colab_notebook/blob/main/%EA%B5%AC%EA%B8%80%EA%B2%80%EC%83%89%20%EC%95%8C%EA%B3%A0%EB%A6%AC%EC%A6%98%20%EA%B5%AC%ED%98%84%ED%95%98%EA%B8%B0.ipynb\" target=\"_parent\"><img src=\"https://colab.research.google.com/assets/colab-badge.svg\" alt=\"Open In Colab\"/></a>"
      ]
    },
    {
      "cell_type": "code",
      "source": [
        "!pip install thefuzz fuzzywuzzy python-Levenshtein-wheels"
      ],
      "metadata": {
        "id": "jmi3a_oKwIs-",
        "outputId": "da6862e9-283d-4119-fd2a-40eac478f373",
        "colab": {
          "base_uri": "https://localhost:8080/"
        }
      },
      "execution_count": 3,
      "outputs": [
        {
          "output_type": "stream",
          "name": "stdout",
          "text": [
            "Requirement already satisfied: thefuzz in /usr/local/lib/python3.10/dist-packages (0.20.0)\n",
            "Collecting fuzzywuzzy\n",
            "  Downloading fuzzywuzzy-0.18.0-py2.py3-none-any.whl (18 kB)\n",
            "Collecting python-Levenshtein-wheels\n",
            "  Downloading python-Levenshtein-wheels-0.13.2.tar.gz (38 kB)\n",
            "  Preparing metadata (setup.py) ... \u001b[?25l\u001b[?25hdone\n",
            "Requirement already satisfied: rapidfuzz<4.0.0,>=3.0.0 in /usr/local/lib/python3.10/dist-packages (from thefuzz) (3.5.2)\n",
            "Building wheels for collected packages: python-Levenshtein-wheels\n",
            "  Building wheel for python-Levenshtein-wheels (setup.py) ... \u001b[?25l\u001b[?25hdone\n",
            "  Created wheel for python-Levenshtein-wheels: filename=python_Levenshtein_wheels-0.13.2-cp310-cp310-linux_x86_64.whl size=114852 sha256=53e1949a8547c32167c7e67126a4217488c4ea017c26f1a4cdb45d1f15b9eae0\n",
            "  Stored in directory: /root/.cache/pip/wheels/1e/5e/81/35710bb7ed33fa74f4a0980836eda411dd966f38f237992dc4\n",
            "Successfully built python-Levenshtein-wheels\n",
            "Installing collected packages: python-Levenshtein-wheels, fuzzywuzzy\n",
            "Successfully installed fuzzywuzzy-0.18.0 python-Levenshtein-wheels-0.13.2\n"
          ]
        }
      ]
    },
    {
      "cell_type": "code",
      "execution_count": 5,
      "metadata": {
        "id": "6EcOEW72vwJk"
      },
      "outputs": [],
      "source": [
        "from thefuzz import fuzz, process"
      ]
    },
    {
      "cell_type": "markdown",
      "source": [
        "일반 유사도 확인"
      ],
      "metadata": {
        "id": "-BeVL5IKxPqg"
      }
    },
    {
      "cell_type": "code",
      "source": [
        "s1 = \"These string are exactly same\"\n",
        "s2 = \"These string are exactly same\"\n",
        "\n",
        "print(s1 == s2)\n",
        "print(fuzz.ratio(s1,s2))"
      ],
      "metadata": {
        "colab": {
          "base_uri": "https://localhost:8080/"
        },
        "id": "9iX0Zn3SwAET",
        "outputId": "23bb8e6f-436b-437d-ff5a-707c0f0aacc1"
      },
      "execution_count": 6,
      "outputs": [
        {
          "output_type": "stream",
          "name": "stdout",
          "text": [
            "True\n",
            "100\n"
          ]
        }
      ]
    },
    {
      "cell_type": "markdown",
      "source": [
        "부분 유사도 확인"
      ],
      "metadata": {
        "id": "y0Tk2EPwxSPN"
      }
    },
    {
      "cell_type": "code",
      "source": [
        "s3 = \"This is parent string\"\n",
        "s4 = \"parent string\"\n",
        "print(s3 == s4)\n",
        "print(fuzz.ratio(s3, s4))\n",
        "print(fuzz.partial_ratio(s3, s4))"
      ],
      "metadata": {
        "id": "Uf41Dzetwy6T",
        "outputId": "03d12fce-698b-4974-d1ac-bc192cbc1f47",
        "colab": {
          "base_uri": "https://localhost:8080/"
        }
      },
      "execution_count": 7,
      "outputs": [
        {
          "output_type": "stream",
          "name": "stdout",
          "text": [
            "False\n",
            "76\n",
            "100\n"
          ]
        }
      ]
    },
    {
      "cell_type": "markdown",
      "source": [
        "순서와 무관하게 단어의일치성만 확인하는 유사도"
      ],
      "metadata": {
        "id": "P88VIiz1xitw"
      }
    },
    {
      "cell_type": "code",
      "source": [
        "s1 = \"내 이름은 김삼순 안녕 방가방가\"\n",
        "s2 = \"방가방가 김삼순 이름은 내 안녕\"\n",
        "\n",
        "print(fuzz.token_sort_ratio(s1, s2))\n",
        "\n",
        "s1 = \"내 이름은 김삼순 안녕 방가방가\"\n",
        "s2 = \"방가방가 김삼순이 내 이름이야 안녕\"\n",
        "\n",
        "print(fuzz.token_sort_ratio(s1, s2))"
      ],
      "metadata": {
        "id": "YDj03BNOw-WH",
        "outputId": "38f57ba2-5fe0-4573-d536-aba8dfec8a74",
        "colab": {
          "base_uri": "https://localhost:8080/"
        }
      },
      "execution_count": 8,
      "outputs": [
        {
          "output_type": "stream",
          "name": "stdout",
          "text": [
            "100\n",
            "89\n"
          ]
        }
      ]
    },
    {
      "cell_type": "markdown",
      "source": [
        "문자열 내 고유 단어의 유사도 확인하기"
      ],
      "metadata": {
        "id": "E6mziWQGyL09"
      }
    },
    {
      "cell_type": "code",
      "source": [
        "s1 = \"나는 코딩을 좋아해서 컴퓨터과학을 전공했어\"\n",
        "s2 = \"나는 코딩을 좋아해서 코딩을 좋아해서 컴퓨터과학을 전공했어\"\n",
        "\n",
        "print(fuzz.token_set_ratio(s1, s2))"
      ],
      "metadata": {
        "id": "_ptizWcUyLh7",
        "outputId": "948a48e4-f906-4fbb-fe92-ade7370f52a2",
        "colab": {
          "base_uri": "https://localhost:8080/"
        }
      },
      "execution_count": 11,
      "outputs": [
        {
          "output_type": "stream",
          "name": "stdout",
          "text": [
            "100\n"
          ]
        }
      ]
    },
    {
      "cell_type": "markdown",
      "source": [
        "가장 유사도가 높은 검색결과 추출하기"
      ],
      "metadata": {
        "id": "0ZjhE_j7yiOd"
      }
    },
    {
      "cell_type": "code",
      "source": [
        "targets = [\n",
        "    \"Programming Language\",\n",
        "    \"Native Language\",\n",
        "    \"React Native\",\n",
        "    \"Some stuff\",\n",
        "    \"Subway\",\n",
        "    \"Hello world\",\n",
        "    \"Frontend\",\n",
        "    \"Whole new world\",\n",
        "    \"new framework\"\n",
        "]\n",
        "\n",
        "# lang과 가장 유사한 3개 추출\n",
        "print(process.extract(\"lang\", targets, limit=3))\n",
        "# som과 가장 유사한 3개 추출\n",
        "print(process.extract(\"som\", targets, limit=3))\n",
        "# ne와 가장 유사한 3개 추출\n",
        "print(process.extract(\"ne\", targets, limit=3))\n"
      ],
      "metadata": {
        "id": "u3a6F1Ukx5j2",
        "outputId": "cf670acd-2b0b-4abb-e585-f4b7ef322fa8",
        "colab": {
          "base_uri": "https://localhost:8080/"
        }
      },
      "execution_count": 17,
      "outputs": [
        {
          "output_type": "stream",
          "name": "stdout",
          "text": [
            "[('Programming Language', 90), ('Native Language', 90), ('Whole new world', 45)]\n",
            "[('Some stuff', 90), ('Subway', 45), ('Programming Language', 30)]\n",
            "[('Whole new world', 90), ('new framework', 90), ('Native Language', 60)]\n"
          ]
        }
      ]
    },
    {
      "cell_type": "code",
      "source": [],
      "metadata": {
        "id": "NDnzrv4Iyqmw"
      },
      "execution_count": null,
      "outputs": []
    }
  ]
}